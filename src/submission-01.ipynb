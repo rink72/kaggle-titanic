{
 "cells": [
  {
   "cell_type": "code",
   "execution_count": 27,
   "metadata": {},
   "outputs": [],
   "source": [
    "# imports\n",
    "import pandas as pd\n",
    "from sklearn.preprocessing import OneHotEncoder\n",
    "from sklearn.preprocessing import OrdinalEncoder\n",
    "from sklearn.feature_selection import mutual_info_regression\n",
    "from sklearn.ensemble import RandomForestClassifier\n",
    "from sklearn.metrics import mean_absolute_error\n",
    "from sklearn.metrics import accuracy_score\n",
    "from sklearn.model_selection import train_test_split\n",
    "import matplotlib.pyplot as plt\n",
    "import numpy as np\n",
    "import seaborn as sns"
   ]
  },
  {
   "cell_type": "code",
   "execution_count": 38,
   "metadata": {},
   "outputs": [],
   "source": [
    "# Notebook variables\n",
    "SEED_VALUE = 72\n",
    "TRAIN_SIZE = 0.8\n",
    "TEST_SIZE = 0.2\n",
    "\n",
    "TREE_DEPTH = 20\n",
    "ESTIMATORS = 200\n",
    "\n",
    "\n",
    "trainDataPath = \"../input/train.csv\"\n",
    "testDataPath = \"../input/test.csv\"\n",
    "\n",
    "outputPath = \"../output/submission.csv\""
   ]
  },
  {
   "cell_type": "code",
   "execution_count": 29,
   "metadata": {},
   "outputs": [],
   "source": [
    "# Functions\n",
    "\n",
    "def PreProcessData(data):\n",
    "  \n",
    "  ppData = data.copy()\n",
    "\n",
    "  ordinalColumns = [\"Sex\"]\n",
    "  requiredColumns = [\"Sex\", \"Pclass\"]\n",
    "\n",
    "  # Encode required columns\n",
    "  ordEncoder = OrdinalEncoder()\n",
    "  ppData[ordinalColumns] = ordEncoder.fit_transform(ppData[ordinalColumns])\n",
    "\n",
    "  # Drop unwanted columns\n",
    "  ppData = ppData[requiredColumns]\n",
    "\n",
    "  return ppData"
   ]
  },
  {
   "cell_type": "code",
   "execution_count": 30,
   "metadata": {},
   "outputs": [],
   "source": [
    "# Load initial data\n",
    "\n",
    "trainData = pd.read_csv(trainDataPath, index_col=\"PassengerId\")\n",
    "trainTarget = trainData.pop(\"Survived\")\n"
   ]
  },
  {
   "cell_type": "markdown",
   "metadata": {},
   "source": [
    "### Pre-process training data\n",
    "\n",
    "We will remove:\n",
    "\n",
    "- passengerId - not required\n",
    "- age (we will initially drop this and look at adding it back in later with some missing data estimates)\n",
    "- ticket\n",
    "- cabin\n",
    "\n",
    "We will convert:\n",
    "\n",
    "- sex - ordinal encoding\n"
   ]
  },
  {
   "cell_type": "code",
   "execution_count": 31,
   "metadata": {},
   "outputs": [
    {
     "data": {
      "text/html": [
       "<div>\n",
       "<style scoped>\n",
       "    .dataframe tbody tr th:only-of-type {\n",
       "        vertical-align: middle;\n",
       "    }\n",
       "\n",
       "    .dataframe tbody tr th {\n",
       "        vertical-align: top;\n",
       "    }\n",
       "\n",
       "    .dataframe thead th {\n",
       "        text-align: right;\n",
       "    }\n",
       "</style>\n",
       "<table border=\"1\" class=\"dataframe\">\n",
       "  <thead>\n",
       "    <tr style=\"text-align: right;\">\n",
       "      <th></th>\n",
       "      <th>Sex</th>\n",
       "      <th>Pclass</th>\n",
       "    </tr>\n",
       "    <tr>\n",
       "      <th>PassengerId</th>\n",
       "      <th></th>\n",
       "      <th></th>\n",
       "    </tr>\n",
       "  </thead>\n",
       "  <tbody>\n",
       "    <tr>\n",
       "      <th>1</th>\n",
       "      <td>1.0</td>\n",
       "      <td>3</td>\n",
       "    </tr>\n",
       "    <tr>\n",
       "      <th>2</th>\n",
       "      <td>0.0</td>\n",
       "      <td>1</td>\n",
       "    </tr>\n",
       "    <tr>\n",
       "      <th>3</th>\n",
       "      <td>0.0</td>\n",
       "      <td>3</td>\n",
       "    </tr>\n",
       "    <tr>\n",
       "      <th>4</th>\n",
       "      <td>0.0</td>\n",
       "      <td>1</td>\n",
       "    </tr>\n",
       "    <tr>\n",
       "      <th>5</th>\n",
       "      <td>1.0</td>\n",
       "      <td>3</td>\n",
       "    </tr>\n",
       "  </tbody>\n",
       "</table>\n",
       "</div>"
      ],
      "text/plain": [
       "             Sex  Pclass\n",
       "PassengerId             \n",
       "1            1.0       3\n",
       "2            0.0       1\n",
       "3            0.0       3\n",
       "4            0.0       1\n",
       "5            1.0       3"
      ]
     },
     "execution_count": 31,
     "metadata": {},
     "output_type": "execute_result"
    }
   ],
   "source": [
    "# Preprocessing - ordinal for everything\n",
    "\n",
    "ppData = PreProcessData(trainData)\n",
    "\n",
    "ppData.head()"
   ]
  },
  {
   "cell_type": "markdown",
   "metadata": {},
   "source": [
    "### Creating model\n",
    "\n",
    "Our first attempt at creating a model will use `Sex`, `Fare` and `Pclass`."
   ]
  },
  {
   "cell_type": "code",
   "execution_count": 32,
   "metadata": {},
   "outputs": [
    {
     "data": {
      "text/plain": [
       "RandomForestClassifier(max_depth=20, n_estimators=200, random_state=72)"
      ]
     },
     "execution_count": 32,
     "metadata": {},
     "output_type": "execute_result"
    }
   ],
   "source": [
    "# Train model\n",
    "\n",
    "model = RandomForestClassifier(n_estimators=ESTIMATORS, random_state=SEED_VALUE, max_depth=TREE_DEPTH)\n",
    "model.fit(ppData, trainTarget)"
   ]
  },
  {
   "cell_type": "markdown",
   "metadata": {},
   "source": [
    "### Make predictions and save csv"
   ]
  },
  {
   "cell_type": "code",
   "execution_count": 39,
   "metadata": {},
   "outputs": [],
   "source": [
    "# Make predictions and save csv\n",
    "\n",
    "testData = pd.read_csv(testDataPath, index_col=\"PassengerId\")\n",
    "predictionData = PreProcessData(testData)\n",
    "\n",
    "predictions = model.predict(predictionData)\n",
    "\n",
    "testData[\"Survived\"] = predictions\n",
    "testData[\"Survived\"].to_csv(outputPath)"
   ]
  }
 ],
 "metadata": {
  "interpreter": {
   "hash": "2be5faf79681da6f2a61fdfdd5405d65d042280f7fba6178067603e3a2925119"
  },
  "kernelspec": {
   "display_name": "Python 3.10.2 64-bit",
   "language": "python",
   "name": "python3"
  },
  "language_info": {
   "codemirror_mode": {
    "name": "ipython",
    "version": 3
   },
   "file_extension": ".py",
   "mimetype": "text/x-python",
   "name": "python",
   "nbconvert_exporter": "python",
   "pygments_lexer": "ipython3",
   "version": "3.10.1"
  },
  "orig_nbformat": 4
 },
 "nbformat": 4,
 "nbformat_minor": 2
}
